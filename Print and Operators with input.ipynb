{
 "cells": [
  {
   "cell_type": "code",
   "execution_count": null,
   "metadata": {},
   "outputs": [],
   "source": [
    "# Assignment of print and operators with input "
   ]
  },
  {
   "cell_type": "code",
   "execution_count": 2,
   "metadata": {},
   "outputs": [
    {
     "name": "stdout",
     "output_type": "stream",
     "text": [
      "enter your 1st value:6\n",
      "enter your 2nd value12\n",
      "select you operation: \n",
      "\n",
      " + for sum \n",
      " - for subtraction \n",
      " * for multiplication \n",
      " / for division \n",
      "*\n",
      " your multipication= 72\n"
     ]
    }
   ],
   "source": [
    "# Calculator\n",
    "\n",
    "num1 = int(input(\"enter your 1st value:\"))\n",
    "num2 = int(input(\"enter your 2nd value\")) \n",
    "\n",
    "\n",
    "operation = input(\"select you operation: \\n\\n + for sum \\n - for subtraction \\n * for multiplication \\n / for division \\n\")\n",
    "\n",
    "if operation == \"+\":\n",
    "    print(\"your sum=\" , num1 + num2)\n",
    "elif operation == \"-\":\n",
    "    print(\" your subtraction =\", num1 - num2)\n",
    "elif operation == \"*\":\n",
    "    print(\" your multipication=\" , num1 *num2)\n",
    "elif operation ==\"/\":\n",
    "    print(\"your division=\", num1 / num2)\n",
    "else:\n",
    "    print(\" please correct your operation\")"
   ]
  },
  {
   "cell_type": "code",
   "execution_count": null,
   "metadata": {},
   "outputs": [],
   "source": []
  }
 ],
 "metadata": {
  "kernelspec": {
   "display_name": "Python 3",
   "language": "python",
   "name": "python3"
  },
  "language_info": {
   "codemirror_mode": {
    "name": "ipython",
    "version": 3
   },
   "file_extension": ".py",
   "mimetype": "text/x-python",
   "name": "python",
   "nbconvert_exporter": "python",
   "pygments_lexer": "ipython3",
   "version": "3.7.6"
  }
 },
 "nbformat": 4,
 "nbformat_minor": 4
}
